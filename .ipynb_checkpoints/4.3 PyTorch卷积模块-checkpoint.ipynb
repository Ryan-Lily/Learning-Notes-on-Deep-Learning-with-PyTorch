{
 "cells": [
  {
   "cell_type": "code",
   "execution_count": 3,
   "metadata": {},
   "outputs": [
    {
     "name": "stdout",
     "output_type": "stream",
     "text": [
      "SimpleCNN(\n",
      "  (layer1): Sequential(\n",
      "    (conv1): Conv2d(3, 32, kernel_size=(3, 3), stride=(1, 1), padding=(1, 1))\n",
      "    (relu1): ReLU(inplace=True)\n",
      "    (pool1): MaxPool2d(kernel_size=2, stride=2, padding=0, dilation=1, ceil_mode=False)\n",
      "  )\n",
      "  (layer2): Sequential(\n",
      "    (conv2): Conv2d(32, 64, kernel_size=(3, 3), stride=(1, 1), padding=(1, 1))\n",
      "    (relu2): ReLU(inplace=True)\n",
      "    (pool2): MaxPool2d(kernel_size=2, stride=2, padding=0, dilation=1, ceil_mode=False)\n",
      "  )\n",
      "  (layer3): Sequential(\n",
      "    (conv3): Conv2d(64, 128, kernel_size=(3, 3), stride=(1, 1), padding=(1, 1))\n",
      "    (relu3): ReLU(inplace=True)\n",
      "    (pool3): MaxPool2d(kernel_size=2, stride=2, padding=0, dilation=1, ceil_mode=False)\n",
      "  )\n",
      "  (layer4): Sequential(\n",
      "    (fc1): Linear(in_features=2048, out_features=512, bias=True)\n",
      "    (fc_relu1): ReLU(inplace=True)\n",
      "    (fc2): Linear(in_features=512, out_features=64, bias=True)\n",
      "    (fc_relu2): ReLU(inplace=True)\n",
      "    (fc3): Linear(in_features=64, out_features=10, bias=True)\n",
      "  )\n",
      ")\n"
     ]
    }
   ],
   "source": [
    "#构造一个简单的多层卷积神经网络\n",
    "import torch.nn as nn\n",
    "\n",
    "class SimpleCNN(nn.Module):\n",
    "    def __init__(self):\n",
    "        super(SimpleCNN, self).__init__()\n",
    "        layer1 = nn.Sequential()\n",
    "        layer1.add_module('conv1', nn.Conv2d(3, 32, 3, 1, padding = 1))\n",
    "        layer1.add_module('relu1', nn.ReLU(True))\n",
    "        layer1.add_module('pool1', nn.MaxPool2d(2, 2))\n",
    "        self.layer1 = layer1\n",
    "        \n",
    "        layer2 = nn.Sequential()\n",
    "        layer2.add_module('conv2', nn.Conv2d(32, 64, 3, 1, padding = 1))\n",
    "        layer2.add_module('relu2', nn.ReLU(True))\n",
    "        layer2.add_module('pool2', nn.MaxPool2d(2, 2))\n",
    "        self.layer2 = layer2\n",
    "        \n",
    "        layer3 = nn.Sequential()\n",
    "        layer3.add_module('conv3', nn.Conv2d(64, 128, 3, 1, padding = 1))\n",
    "        layer3.add_module('relu3', nn.ReLU(True))\n",
    "        layer3.add_module('pool3', nn.MaxPool2d(2, 2))\n",
    "        self.layer3 = layer3\n",
    "        \n",
    "        layer4 = nn.Sequential()\n",
    "        layer4.add_module('fc1', nn.Linear(2048, 512))\n",
    "        layer4.add_module('fc_relu1', nn.ReLU(True))\n",
    "        layer4.add_module('fc2', nn.Linear(512, 64))\n",
    "        layer4.add_module('fc_relu2', nn.ReLU(True))\n",
    "        layer4.add_module('fc3', nn.Linear(64, 10))\n",
    "        self.layer4 = layer4\n",
    "        \n",
    "    def forward(self, x):\n",
    "        conv1 = self.layer1(x)\n",
    "        conv2 = self.layer2(conv1)\n",
    "        conv3 = self.layer3(conv2)\n",
    "        fc_input = conv3.view(conv3.size(0), -1)\n",
    "        fc_out = self.layer4(fc_input)\n",
    "        return fc_out\n",
    "\n",
    "model = SimpleCNN()\n",
    "print(model)"
   ]
  },
  {
   "cell_type": "code",
   "execution_count": 8,
   "metadata": {},
   "outputs": [
    {
     "name": "stdout",
     "output_type": "stream",
     "text": [
      "Sequential(\n",
      "  (0): Sequential(\n",
      "    (conv1): Conv2d(3, 32, kernel_size=(3, 3), stride=(1, 1), padding=(1, 1))\n",
      "    (relu1): ReLU(inplace=True)\n",
      "    (pool1): MaxPool2d(kernel_size=2, stride=2, padding=0, dilation=1, ceil_mode=False)\n",
      "  )\n",
      "  (1): Sequential(\n",
      "    (conv2): Conv2d(32, 64, kernel_size=(3, 3), stride=(1, 1), padding=(1, 1))\n",
      "    (relu2): ReLU(inplace=True)\n",
      "    (pool2): MaxPool2d(kernel_size=2, stride=2, padding=0, dilation=1, ceil_mode=False)\n",
      "  )\n",
      ")\n",
      "Sequential(\n",
      "  (layer1_conv1): Conv2d(3, 32, kernel_size=(3, 3), stride=(1, 1), padding=(1, 1))\n",
      "  (layer2_conv2): Conv2d(32, 64, kernel_size=(3, 3), stride=(1, 1), padding=(1, 1))\n",
      "  (layer3_conv3): Conv2d(64, 128, kernel_size=(3, 3), stride=(1, 1), padding=(1, 1))\n",
      ")\n"
     ]
    }
   ],
   "source": [
    "#提取层结构\n",
    "\n",
    "#提取模型中的前两层:nn.Module的children()、named_children()属性，返回下一级模块的迭代器。\n",
    "new_model = nn.Sequential(*list(model.children())[:2])\n",
    "print(new_model)\n",
    "#提取模型中所有的卷积层：:nn.Module的modules()、named_modules()属性，返回模型中所有模块的迭代器。\n",
    "conv_model = nn.Sequential()\n",
    "for layer in model.named_modules():\n",
    "    if isinstance(layer[1], nn.Conv2d):\n",
    "        conv_model.add_module(layer[0].replace('.', '_'), layer[1])\n",
    "print(conv_model)"
   ]
  },
  {
   "cell_type": "code",
   "execution_count": 16,
   "metadata": {},
   "outputs": [
    {
     "name": "stdout",
     "output_type": "stream",
     "text": [
      "layer1.conv1.weight\n",
      "layer1.conv1.bias\n",
      "layer2.conv2.weight\n",
      "layer2.conv2.bias\n",
      "layer3.conv3.weight\n",
      "layer3.conv3.bias\n",
      "layer4.fc1.weight\n",
      "layer4.fc1.bias\n",
      "layer4.fc2.weight\n",
      "layer4.fc2.bias\n",
      "layer4.fc3.weight\n",
      "layer4.fc3.bias\n"
     ]
    }
   ],
   "source": [
    "#提取参数及自定义初始化\n",
    "#提取模型中的参数:nn.Module的parameters()、named_parameters()属性，返回模型中所有参数的迭代器。\n",
    "for param in model.named_parameters():\n",
    "    print(param[0])\n",
    "\n",
    "\n",
    "#对权重进行初始化\n",
    "\n",
    "import torch.nn.init as init\n",
    "\n",
    "for m in model.modules():\n",
    "    if isinstance(m, nn.Conv2d):\n",
    "        init.normal_(m.weight.data)\n",
    "        init.xavier_normal_(m.weight.data)\n",
    "        init.kaiming_normal_(m.weight.data)\n",
    "        m.bias.data.fill_(0)\n",
    "    \n",
    "    elif isinstance(m, nn.Linear):\n",
    "        m.weight.data.normal_()\n",
    "\n",
    "    \n",
    "    "
   ]
  },
  {
   "cell_type": "code",
   "execution_count": null,
   "metadata": {},
   "outputs": [],
   "source": []
  }
 ],
 "metadata": {
  "kernelspec": {
   "display_name": "Python 3",
   "language": "python",
   "name": "python3"
  },
  "language_info": {
   "codemirror_mode": {
    "name": "ipython",
    "version": 3
   },
   "file_extension": ".py",
   "mimetype": "text/x-python",
   "name": "python",
   "nbconvert_exporter": "python",
   "pygments_lexer": "ipython3",
   "version": "3.5.2"
  }
 },
 "nbformat": 4,
 "nbformat_minor": 2
}
